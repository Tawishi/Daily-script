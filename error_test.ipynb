{
 "cells": [
  {
   "cell_type": "code",
   "execution_count": 22,
   "metadata": {},
   "outputs": [
    {
     "name": "stdout",
     "output_type": "stream",
     "text": [
      "0001-01-01 00:00:00\n",
      "2022-06-18 11:16:37\n"
     ]
    }
   ],
   "source": [
    "import json\n",
    "from pprint import pprint\n",
    "import datetime\n",
    "import pandas as pd\n",
    "\n",
    "file_path = \"/home/tawishi/Desktop/t./Daily-script/data/activities_2022-06-18.json\"\n",
    "with open(file_path) as file:\n",
    "    jsonObj = json.load(file)\n",
    "    file.close()\n",
    "# pprint(jsonObj)\n",
    "\n",
    "# activities[] -> {} -> time_entries[] -> {end_time} // get the greatest end-time\n",
    "result_time = datetime.datetime.min\n",
    "print(datetime.datetime.min)\n",
    "acts = jsonObj['activities']\n",
    "for act in acts:\n",
    "    time_entries = act['time_entries']\n",
    "    entry_max = datetime.datetime.min\n",
    "    for time_entry in time_entries:\n",
    "        end_time = pd.to_datetime(time_entry['end_time'])\n",
    "        entry_max = max(entry_max, end_time)\n",
    "    result_time = max(result_time, entry_max)\n",
    "\n",
    "print(result_time)"
   ]
  }
 ],
 "metadata": {
  "kernelspec": {
   "display_name": "Python 3.10.4 64-bit",
   "language": "python",
   "name": "python3"
  },
  "language_info": {
   "codemirror_mode": {
    "name": "ipython",
    "version": 3
   },
   "file_extension": ".py",
   "mimetype": "text/x-python",
   "name": "python",
   "nbconvert_exporter": "python",
   "pygments_lexer": "ipython3",
   "version": "3.10.4"
  },
  "orig_nbformat": 4,
  "vscode": {
   "interpreter": {
    "hash": "916dbcbb3f70747c44a77c7bcd40155683ae19c65e1c03b4aa3499c5328201f1"
   }
  }
 },
 "nbformat": 4,
 "nbformat_minor": 2
}
